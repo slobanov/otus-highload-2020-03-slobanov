{
 "cells": [
  {
   "cell_type": "code",
   "execution_count": 47,
   "metadata": {},
   "outputs": [],
   "source": [
    "import pandas as pd\n",
    "import seaborn as sns\n",
    "import matplotlib.pylab as plt"
   ]
  },
  {
   "cell_type": "markdown",
   "metadata": {},
   "source": [
    "**NB**: make sure you have social-network application running on `localhost:8080`"
   ]
  },
  {
   "cell_type": "code",
   "execution_count": 54,
   "metadata": {},
   "outputs": [
    {
     "name": "stdout",
     "output_type": "stream",
     "text": [
      "mysql: [Warning] Using a password on the command line interface can be insecure.\n",
      "Running 2m test @ http://localhost:8080/social-network/api/user/?limit=5000\n",
      "  1 threads and 1 connections\n",
      "  Thread Stats   Avg      Stdev     Max   +/- Stdev\n",
      "    Latency   444.31ms   19.92ms 537.73ms   74.81%\n",
      "    Req/Sec     1.91      0.29     2.00     90.74%\n",
      "  Latency Distribution\n",
      "     50%  440.84ms\n",
      "     75%  456.77ms\n",
      "     90%  471.07ms\n",
      "     99%  505.46ms\n",
      "  270 requests in 2.00m, 1.67MB read\n",
      "Requests/sec:      2.25\n",
      "Transfer/sec:     14.26KB\n",
      "Running 2m test @ http://localhost:8080/social-network/api/user/?limit=5000\n",
      "  8 threads and 10 connections\n",
      "  Thread Stats   Avg      Stdev     Max   +/- Stdev\n",
      "    Latency   852.99ms   93.97ms   1.17s    56.38%\n",
      "    Req/Sec     0.88      0.33     1.00     87.51%\n",
      "  Latency Distribution\n",
      "     50%  847.86ms\n",
      "     75%  933.15ms\n",
      "     90%  975.73ms\n",
      "     99%    1.08s \n",
      "  1121 requests in 2.00m, 8.68MB read\n",
      "Requests/sec:      9.34\n",
      "Transfer/sec:     74.05KB\n",
      "Running 2m test @ http://localhost:8080/social-network/api/user/?limit=5000\n",
      "  8 threads and 100 connections\n",
      "  Thread Stats   Avg      Stdev     Max   +/- Stdev\n",
      "    Latency    11.00s     3.95s   29.62s    82.02%\n",
      "    Req/Sec     2.16      3.22    20.00     90.13%\n",
      "  Latency Distribution\n",
      "     50%   10.43s \n",
      "     75%   11.16s \n",
      "     90%   17.50s \n",
      "     99%   21.99s \n",
      "  994 requests in 2.00m, 7.89MB read\n",
      "  Socket errors: connect 0, read 0, write 0, timeout 1\n",
      "Requests/sec:      8.28\n",
      "Transfer/sec:     67.29KB\n",
      "Running 2m test @ http://localhost:8080/social-network/api/user/?limit=5000\n",
      "  8 threads and 1000 connections\n",
      "  Thread Stats   Avg      Stdev     Max   +/- Stdev\n",
      "    Latency    17.39s     7.47s   29.98s    61.88%\n",
      "    Req/Sec     3.77      4.43    40.00     80.26%\n",
      "  Latency Distribution\n",
      "     50%   17.92s \n",
      "     75%   23.63s \n",
      "     90%   27.20s \n",
      "     99%   29.59s \n",
      "  1252 requests in 2.00m, 4.41MB read\n",
      "  Socket errors: connect 0, read 0, write 0, timeout 1071\n",
      "  Non-2xx or 3xx responses: 347\n",
      "Requests/sec:     10.42\n",
      "Transfer/sec:     37.62KB\n",
      "mysql: [Warning] Using a password on the command line interface can be insecure.\n",
      "Running 2m test @ http://localhost:8080/social-network/api/user/?limit=5000\n",
      "  1 threads and 1 connections\n",
      "  Thread Stats   Avg      Stdev     Max   +/- Stdev\n",
      "    Latency   508.30ms    1.78s   13.01s    95.07%\n",
      "    Req/Sec    23.08     29.01   220.00     91.04%\n",
      "  Latency Distribution\n",
      "     50%   67.17ms\n",
      "     75%  301.29ms\n",
      "     90%  426.45ms\n",
      "     99%   10.88s \n",
      "  2033 requests in 2.00m, 9.02MB read\n",
      "Requests/sec:     16.94\n",
      "Transfer/sec:     76.91KB\n",
      "Running 2m test @ http://localhost:8080/social-network/api/user/?limit=5000\n",
      "  8 threads and 10 connections\n",
      "  Thread Stats   Avg      Stdev     Max   +/- Stdev\n",
      "    Latency   261.53ms  332.71ms   1.31s    78.32%\n",
      "    Req/Sec    20.04     39.06   343.00     89.74%\n",
      "  Latency Distribution\n",
      "     50%   10.11ms\n",
      "     75%  527.40ms\n",
      "     90%  817.70ms\n",
      "     99%  995.77ms\n",
      "  8398 requests in 2.00m, 40.65MB read\n",
      "Requests/sec:     69.94\n",
      "Transfer/sec:    346.64KB\n",
      "Running 2m test @ http://localhost:8080/social-network/api/user/?limit=5000\n",
      "  8 threads and 100 connections\n",
      "  Thread Stats   Avg      Stdev     Max   +/- Stdev\n",
      "    Latency     1.47s     1.02s    9.16s    75.79%\n",
      "    Req/Sec    14.15     14.36   141.00     83.98%\n",
      "  Latency Distribution\n",
      "     50%    1.22s \n",
      "     75%    1.96s \n",
      "     90%    2.77s \n",
      "     99%    4.99s \n",
      "  8313 requests in 2.00m, 40.26MB read\n",
      "Requests/sec:     69.24\n",
      "Transfer/sec:    343.38KB\n",
      "Running 2m test @ http://localhost:8080/social-network/api/user/?limit=5000\n",
      "  8 threads and 1000 connections\n",
      "  Thread Stats   Avg      Stdev     Max   +/- Stdev\n",
      "    Latency    14.34s     4.94s   29.97s    72.61%\n",
      "    Req/Sec    13.63     13.54   118.00     83.87%\n",
      "  Latency Distribution\n",
      "     50%   14.29s \n",
      "     75%   17.17s \n",
      "     90%   20.49s \n",
      "     99%   27.09s \n",
      "  7732 requests in 2.00m, 38.73MB read\n",
      "  Socket errors: connect 0, read 0, write 0, timeout 68\n",
      "  Non-2xx or 3xx responses: 3\n",
      "Requests/sec:     64.39\n",
      "Transfer/sec:    330.28KB\n"
     ]
    }
   ],
   "source": [
    "! ./run-load-test.sh"
   ]
  },
  {
   "cell_type": "markdown",
   "metadata": {},
   "source": [
    "Note, that where are considerably more timeouted requests without index for 1000 connections"
   ]
  },
  {
   "cell_type": "code",
   "execution_count": 58,
   "metadata": {
    "scrolled": false
   },
   "outputs": [
    {
     "data": {
      "text/html": [
       "<div>\n",
       "<style scoped>\n",
       "    .dataframe tbody tr th:only-of-type {\n",
       "        vertical-align: middle;\n",
       "    }\n",
       "\n",
       "    .dataframe tbody tr th {\n",
       "        vertical-align: top;\n",
       "    }\n",
       "\n",
       "    .dataframe thead th {\n",
       "        text-align: right;\n",
       "    }\n",
       "</style>\n",
       "<table border=\"1\" class=\"dataframe\">\n",
       "  <thead>\n",
       "    <tr style=\"text-align: right;\">\n",
       "      <th></th>\n",
       "      <th>connections</th>\n",
       "      <th>latencyp90[ms]</th>\n",
       "      <th>throughput[rps]</th>\n",
       "      <th>index</th>\n",
       "    </tr>\n",
       "  </thead>\n",
       "  <tbody>\n",
       "    <tr>\n",
       "      <th>0</th>\n",
       "      <td>1</td>\n",
       "      <td>471.070</td>\n",
       "      <td>2.249259</td>\n",
       "      <td>False</td>\n",
       "    </tr>\n",
       "    <tr>\n",
       "      <th>1</th>\n",
       "      <td>10</td>\n",
       "      <td>975.728</td>\n",
       "      <td>9.337131</td>\n",
       "      <td>False</td>\n",
       "    </tr>\n",
       "    <tr>\n",
       "      <th>2</th>\n",
       "      <td>100</td>\n",
       "      <td>17500.564</td>\n",
       "      <td>8.278694</td>\n",
       "      <td>False</td>\n",
       "    </tr>\n",
       "    <tr>\n",
       "      <th>3</th>\n",
       "      <td>1000</td>\n",
       "      <td>27204.131</td>\n",
       "      <td>10.424700</td>\n",
       "      <td>False</td>\n",
       "    </tr>\n",
       "    <tr>\n",
       "      <th>0</th>\n",
       "      <td>1</td>\n",
       "      <td>426.450</td>\n",
       "      <td>16.936633</td>\n",
       "      <td>True</td>\n",
       "    </tr>\n",
       "    <tr>\n",
       "      <th>1</th>\n",
       "      <td>10</td>\n",
       "      <td>817.696</td>\n",
       "      <td>69.938167</td>\n",
       "      <td>True</td>\n",
       "    </tr>\n",
       "    <tr>\n",
       "      <th>2</th>\n",
       "      <td>100</td>\n",
       "      <td>2771.297</td>\n",
       "      <td>69.241338</td>\n",
       "      <td>True</td>\n",
       "    </tr>\n",
       "    <tr>\n",
       "      <th>3</th>\n",
       "      <td>1000</td>\n",
       "      <td>20486.732</td>\n",
       "      <td>64.387152</td>\n",
       "      <td>True</td>\n",
       "    </tr>\n",
       "  </tbody>\n",
       "</table>\n",
       "</div>"
      ],
      "text/plain": [
       "   connections  latencyp90[ms]  throughput[rps]  index\n",
       "0            1         471.070         2.249259  False\n",
       "1           10         975.728         9.337131  False\n",
       "2          100       17500.564         8.278694  False\n",
       "3         1000       27204.131        10.424700  False\n",
       "0            1         426.450        16.936633   True\n",
       "1           10         817.696        69.938167   True\n",
       "2          100        2771.297        69.241338   True\n",
       "3         1000       20486.732        64.387152   True"
      ]
     },
     "execution_count": 58,
     "metadata": {},
     "output_type": "execute_result"
    }
   ],
   "source": [
    "no_index_df = pd.read_csv(\"no_index.csv\")\n",
    "no_index_df[\"index\"] = False\n",
    "\n",
    "with_index_df = pd.read_csv(\"with_index.csv\")\n",
    "with_index_df[\"index\"] = True\n",
    "\n",
    "df = no_index_df.append(with_index_df)\n",
    "df.head(10)"
   ]
  },
  {
   "cell_type": "code",
   "execution_count": 56,
   "metadata": {},
   "outputs": [
    {
     "data": {
      "image/png": "[encoded data removed]",
      "text/plain": [
       "<Figure size 720x504 with 1 Axes>"
      ]
     },
     "metadata": {},
     "output_type": "display_data"
    }
   ],
   "source": [
    "sns.set(rc = {\"figure.figsize\": (10, 7)})\n",
    "\n",
    "ax = sns.lineplot(x = \"connections\", y = \"latencyp90[ms]\", hue = \"index\", data = df)\n",
    "\n",
    "ax.legend([\"Without index\", \"With index\"])\n",
    "ax.set_xscale('log')"
   ]
  },
  {
   "cell_type": "code",
   "execution_count": 59,
   "metadata": {},
   "outputs": [
    {
     "data": {
      "image/png": "[encoded data removed]",
      "text/plain": [
       "<Figure size 720x504 with 1 Axes>"
      ]
     },
     "metadata": {},
     "output_type": "display_data"
    }
   ],
   "source": [
    "ax = sns.lineplot(x = \"connections\", y = \"throughput[rps]\", hue = \"index\", data = df)\n",
    "\n",
    "ax.legend([\"Without index\", \"With index\"])\n",
    "ax.set_xscale('log')"
   ]
  },
  {
   "cell_type": "code",
   "execution_count": 60,
   "metadata": {},
   "outputs": [
    {
     "name": "stdout",
     "output_type": "stream",
     "text": [
      "Used index:\n",
      "../social-network/scripts/docker-compose/docker-mysql-exec.sh \\\n",
      "  \"CREATE index LN_FN_ID_DESC_INDX on USER_PERSONAL_DETAILS(LAST_NAME, FIRST_NAME, ID DESC);\"\n"
     ]
    }
   ],
   "source": [
    "print(\"Used index:\")\n",
    "! cat create-LN_FN_ID_DESC_INDX.sh"
   ]
  },
  {
   "cell_type": "code",
   "execution_count": 61,
   "metadata": {},
   "outputs": [
    {
     "data": {
      "text/html": [
       "<style>pre { white-space: pre !important; }</style>"
      ],
      "text/plain": [
       "<IPython.core.display.HTML object>"
      ]
     },
     "metadata": {},
     "output_type": "display_data"
    },
    {
     "name": "stdout",
     "output_type": "stream",
     "text": [
      "\n",
      "+----+-------------+-----------------------+------------+--------+--------------------------------------+--------------------+---------+------------------------------------------------+-------+----------+---------------------------------------+\n",
      "| id | select_type | table                 | partitions | type   | possible_keys                        | key                | key_len | ref                                            | rows  | filtered | Extra                                 |\n",
      "+----+-------------+-----------------------+------------+--------+--------------------------------------+--------------------+---------+------------------------------------------------+-------+----------+---------------------------------------+\n",
      "|  1 | SIMPLE      | USER_PERSONAL_DETAILS | NULL       | range  | FK_GENDER,FK_CITY,LN_FN_ID_DESC_INDX | LN_FN_ID_DESC_INDX | 2044    | NULL                                           | 25232 |    11.11 | Using index condition; Using filesort |\n",
      "|  1 | SIMPLE      | GENDER                | NULL       | eq_ref | PRIMARY                              | PRIMARY            | 8       | social_network.USER_PERSONAL_DETAILS.GENDER_ID |     1 |   100.00 | NULL                                  |\n",
      "|  1 | SIMPLE      | CITY                  | NULL       | eq_ref | PRIMARY                              | PRIMARY            | 8       | social_network.USER_PERSONAL_DETAILS.CITY_ID   |     1 |   100.00 | NULL                                  |\n",
      "+----+-------------+-----------------------+------------+--------+--------------------------------------+--------------------+---------+------------------------------------------------+-------+----------+---------------------------------------+\n",
      "\n",
      "\n"
     ]
    }
   ],
   "source": [
    "from IPython.core.display import HTML\n",
    "display(HTML(\"<style>pre { white-space: pre !important; }</style>\"))\n",
    "\n",
    "print(\"\"\"\n",
    "+----+-------------+-----------------------+------------+--------+--------------------------------------+--------------------+---------+------------------------------------------------+-------+----------+---------------------------------------+\n",
    "| id | select_type | table                 | partitions | type   | possible_keys                        | key                | key_len | ref                                            | rows  | filtered | Extra                                 |\n",
    "+----+-------------+-----------------------+------------+--------+--------------------------------------+--------------------+---------+------------------------------------------------+-------+----------+---------------------------------------+\n",
    "|  1 | SIMPLE      | USER_PERSONAL_DETAILS | NULL       | range  | FK_GENDER,FK_CITY,LN_FN_ID_DESC_INDX | LN_FN_ID_DESC_INDX | 2044    | NULL                                           | 25232 |    11.11 | Using index condition; Using filesort |\n",
    "|  1 | SIMPLE      | GENDER                | NULL       | eq_ref | PRIMARY                              | PRIMARY            | 8       | social_network.USER_PERSONAL_DETAILS.GENDER_ID |     1 |   100.00 | NULL                                  |\n",
    "|  1 | SIMPLE      | CITY                  | NULL       | eq_ref | PRIMARY                              | PRIMARY            | 8       | social_network.USER_PERSONAL_DETAILS.CITY_ID   |     1 |   100.00 | NULL                                  |\n",
    "+----+-------------+-----------------------+------------+--------+--------------------------------------+--------------------+---------+------------------------------------------------+-------+----------+---------------------------------------+\n",
    "\n",
    "\"\"\")"
   ]
  },
  {
   "cell_type": "markdown",
   "metadata": {},
   "source": [
    "### Index explanation\n",
    "\n",
    "* In order to search with predicate `LAST_NAME like 'last_name_prefix%' and FIRST_NAME like 'first_name_prefix'`\n",
    "we can use multicolumn B-tree index on `LAST_NAME` and `FIRST_NAME`.\n",
    "* `LAST_NAME` is more selective then `FIRST_NAME`, hence `LAST_NAME` comes first.\n",
    "* Finally, we add index `ID DESC` - this can slightly boost sorting the result."
   ]
  }
 ],
 "metadata": {
  "kernelspec": {
   "display_name": "Python 3",
   "language": "python",
   "name": "python3"
  },
  "language_info": {
   "codemirror_mode": {
    "name": "ipython",
    "version": 3
   },
   "file_extension": ".py",
   "mimetype": "text/x-python",
   "name": "python",
   "nbconvert_exporter": "python",
   "pygments_lexer": "ipython3",
   "version": "3.7.6"
  }
 },
 "nbformat": 4,
 "nbformat_minor": 4
}
