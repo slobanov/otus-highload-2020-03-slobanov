{
 "cells": [
  {
   "cell_type": "code",
   "execution_count": 1,
   "metadata": {},
   "outputs": [],
   "source": [
    "import pandas as pd\n",
    "import numpy as np\n",
    "import string\n",
    "from pathlib import Path\n",
    "import csv\n",
    "\n",
    "seed = 42\n",
    "\n",
    "n_users = 1_000_000\n",
    "\n",
    "output_dir = Path(\"generated_data\")\n",
    "output_dir.mkdir(parents=True, exist_ok=True)\n",
    "\n",
    "def save_file(data, file_name):\n",
    "    with open(output_dir / file_name, \"w\") as f:\n",
    "        csv.writer(f).writerows(data)\n",
    "    \n",
    "def generate_ids(array):\n",
    "    return np.arange(1, array.shape[0] + 1)\n",
    "\n",
    "def read_column_data(file_name):\n",
    "    return pd.read_csv(file_name, names = [\"line\"])[\"line\"].values\n",
    "\n",
    "printable = set(string.printable)\n",
    "def filter_not_printable(str_arr):\n",
    "    return np.array([string for string in str_arr if not any(char for char in string if char not in printable)])"
   ]
  },
  {
   "cell_type": "markdown",
   "metadata": {},
   "source": [
    "## Users"
   ]
  },
  {
   "cell_type": "code",
   "execution_count": 2,
   "metadata": {},
   "outputs": [
    {
     "data": {
      "text/plain": [
       "array(['$2a$10$IXXF/ArqWDCv6Jnms79V.OTke3P.qCf1fVnqfOs/q2iWtyyeuzaz6',\n",
       "       '$2a$10$IXXF/ArqWDCv6Jnms79V.OTke3P.qCf1fVnqfOs/q2iWtyyeuzaz6',\n",
       "       '$2a$10$IXXF/ArqWDCv6Jnms79V.OTke3P.qCf1fVnqfOs/q2iWtyyeuzaz6',\n",
       "       '$2a$10$IXXF/ArqWDCv6Jnms79V.OTke3P.qCf1fVnqfOs/q2iWtyyeuzaz6',\n",
       "       '$2a$10$IXXF/ArqWDCv6Jnms79V.OTke3P.qCf1fVnqfOs/q2iWtyyeuzaz6'],\n",
       "      dtype='<U60')"
      ]
     },
     "execution_count": 2,
     "metadata": {},
     "output_type": "execute_result"
    }
   ],
   "source": [
    "password = \"$2a$10$IXXF/ArqWDCv6Jnms79V.OTke3P.qCf1fVnqfOs/q2iWtyyeuzaz6\"\n",
    "\n",
    "user_passwords = np.repeat(password, n_users)\n",
    "user_passwords[:5]"
   ]
  },
  {
   "cell_type": "code",
   "execution_count": 3,
   "metadata": {},
   "outputs": [
    {
     "data": {
      "text/plain": [
       "array(['USER', 'USER', 'USER', 'USER', 'USER'], dtype='<U4')"
      ]
     },
     "execution_count": 3,
     "metadata": {},
     "output_type": "execute_result"
    }
   ],
   "source": [
    "roles = \"USER\"\n",
    "\n",
    "user_roles = np.repeat(roles, n_users)\n",
    "user_roles[:5]"
   ]
  },
  {
   "cell_type": "code",
   "execution_count": 4,
   "metadata": {},
   "outputs": [
    {
     "data": {
      "text/plain": [
       "array(['VBX3BU60', 'VY01POCGUIRDYN1', 'IZBT1G2', '8NQ9DBFD2RZ73',\n",
       "       '9N4OHNWUPRXZY24'], dtype='<U20')"
      ]
     },
     "execution_count": 4,
     "metadata": {},
     "output_type": "execute_result"
    }
   ],
   "source": [
    "np.random.seed(seed)\n",
    "\n",
    "chars = np.array(list(string.ascii_uppercase + string.digits))\n",
    "login_min_length = 5\n",
    "login_max_length = 15\n",
    "\n",
    "def generate_login(*args):\n",
    "    return \"\".join(\n",
    "        np.random.choice(chars, size = np.random.randint(login_min_length, login_max_length))\n",
    "    ) + str(int(args[0]))\n",
    "\n",
    "user_logins = np.fromfunction(np.vectorize(generate_login), shape = (n_users,))\n",
    "user_logins[:5]"
   ]
  },
  {
   "cell_type": "code",
   "execution_count": 5,
   "metadata": {},
   "outputs": [
    {
     "data": {
      "text/plain": [
       "array([1, 2, 3, 4, 5])"
      ]
     },
     "execution_count": 5,
     "metadata": {},
     "output_type": "execute_result"
    }
   ],
   "source": [
    "user_ids = generate_ids(user_logins)\n",
    "user_ids[:5]"
   ]
  },
  {
   "cell_type": "code",
   "execution_count": 6,
   "metadata": {},
   "outputs": [
    {
     "data": {
      "text/plain": [
       "array([['ID', 'LOGIN', 'PASSWORD', 'ROLES'],\n",
       "       ['1', 'VBX3BU60',\n",
       "        '$2a$10$IXXF/ArqWDCv6Jnms79V.OTke3P.qCf1fVnqfOs/q2iWtyyeuzaz6',\n",
       "        'USER'],\n",
       "       ['2', 'VY01POCGUIRDYN1',\n",
       "        '$2a$10$IXXF/ArqWDCv6Jnms79V.OTke3P.qCf1fVnqfOs/q2iWtyyeuzaz6',\n",
       "        'USER'],\n",
       "       ['3', 'IZBT1G2',\n",
       "        '$2a$10$IXXF/ArqWDCv6Jnms79V.OTke3P.qCf1fVnqfOs/q2iWtyyeuzaz6',\n",
       "        'USER'],\n",
       "       ['4', '8NQ9DBFD2RZ73',\n",
       "        '$2a$10$IXXF/ArqWDCv6Jnms79V.OTke3P.qCf1fVnqfOs/q2iWtyyeuzaz6',\n",
       "        'USER']], dtype='<U60')"
      ]
     },
     "execution_count": 6,
     "metadata": {},
     "output_type": "execute_result"
    }
   ],
   "source": [
    "user_header = np.array([\"ID\", \"LOGIN\", \"PASSWORD\", \"ROLES\"])\n",
    "users = np.stack([\n",
    "    user_ids,\n",
    "    user_logins,\n",
    "    user_passwords,\n",
    "    user_roles\n",
    "]).T\n",
    "users = np.vstack([user_header, users])\n",
    "users[:5]"
   ]
  },
  {
   "cell_type": "code",
   "execution_count": 7,
   "metadata": {},
   "outputs": [],
   "source": [
    "save_file(users, \"user.csv\")"
   ]
  },
  {
   "cell_type": "markdown",
   "metadata": {},
   "source": [
    "## Cities"
   ]
  },
  {
   "cell_type": "code",
   "execution_count": 8,
   "metadata": {},
   "outputs": [
    {
     "data": {
      "text/plain": [
       "array(['les Escaldes', 'Andorra la Vella', 'Umm al Qaywayn',\n",
       "       'Ras al-Khaimah', 'Dubai'], dtype='<U49')"
      ]
     },
     "execution_count": 8,
     "metadata": {},
     "output_type": "execute_result"
    }
   ],
   "source": [
    "city_names = filter_not_printable(pd.unique(pd.read_csv(\"data/world-cities.csv\")[\"name\"]))\n",
    "city_names[:5]"
   ]
  },
  {
   "cell_type": "code",
   "execution_count": 9,
   "metadata": {},
   "outputs": [
    {
     "data": {
      "text/plain": [
       "array([1, 2, 3, 4, 5])"
      ]
     },
     "execution_count": 9,
     "metadata": {},
     "output_type": "execute_result"
    }
   ],
   "source": [
    "city_ids = generate_ids(city_names)\n",
    "city_ids[:5]"
   ]
  },
  {
   "cell_type": "code",
   "execution_count": 10,
   "metadata": {},
   "outputs": [
    {
     "data": {
      "text/plain": [
       "array([['ID', 'NAME'],\n",
       "       ['1', 'les Escaldes'],\n",
       "       ['2', 'Andorra la Vella'],\n",
       "       ['3', 'Umm al Qaywayn'],\n",
       "       ['4', 'Ras al-Khaimah']], dtype='<U49')"
      ]
     },
     "execution_count": 10,
     "metadata": {},
     "output_type": "execute_result"
    }
   ],
   "source": [
    "city_header = np.array([\"ID\", \"NAME\"])\n",
    "cities = np.stack([city_ids, city_names]).T\n",
    "cities = np.vstack([city_header, cities])\n",
    "cities[:5]"
   ]
  },
  {
   "cell_type": "code",
   "execution_count": 11,
   "metadata": {},
   "outputs": [],
   "source": [
    "save_file(cities, \"city.csv\")"
   ]
  },
  {
   "cell_type": "markdown",
   "metadata": {},
   "source": [
    "## Interests"
   ]
  },
  {
   "cell_type": "code",
   "execution_count": 12,
   "metadata": {},
   "outputs": [
    {
     "data": {
      "text/plain": [
       "array([' abandoned animals', ' field', 'acting', 'action figures',\n",
       "       'adventure park'], dtype='<U38')"
      ]
     },
     "execution_count": 12,
     "metadata": {},
     "output_type": "execute_result"
    }
   ],
   "source": [
    "interest_names = filter_not_printable(np.unique(np.char.lower(read_column_data(\"data/hobbies.csv\").astype(str))))\n",
    "interest_names[:5]"
   ]
  },
  {
   "cell_type": "code",
   "execution_count": 13,
   "metadata": {},
   "outputs": [
    {
     "data": {
      "text/plain": [
       "array([1, 2, 3, 4, 5])"
      ]
     },
     "execution_count": 13,
     "metadata": {},
     "output_type": "execute_result"
    }
   ],
   "source": [
    "interest_ids = generate_ids(interest_names)\n",
    "city_ids[:5]"
   ]
  },
  {
   "cell_type": "code",
   "execution_count": 14,
   "metadata": {},
   "outputs": [
    {
     "data": {
      "text/plain": [
       "array([['ID', 'NAME'],\n",
       "       ['1', ' abandoned animals'],\n",
       "       ['2', ' field'],\n",
       "       ['3', 'acting'],\n",
       "       ['4', 'action figures']], dtype='<U38')"
      ]
     },
     "execution_count": 14,
     "metadata": {},
     "output_type": "execute_result"
    }
   ],
   "source": [
    "interest_header = np.array([\"ID\", \"NAME\"])\n",
    "interests = np.stack([interest_ids, interest_names]).T\n",
    "interests = np.vstack([interest_header, interests])\n",
    "interests[:5]"
   ]
  },
  {
   "cell_type": "code",
   "execution_count": 15,
   "metadata": {},
   "outputs": [],
   "source": [
    "save_file(interests, \"interest.csv\")"
   ]
  },
  {
   "cell_type": "markdown",
   "metadata": {},
   "source": [
    "## Genders"
   ]
  },
  {
   "cell_type": "code",
   "execution_count": 16,
   "metadata": {},
   "outputs": [
    {
     "data": {
      "text/plain": [
       "array(['Male', 'Female'], dtype='<U6')"
      ]
     },
     "execution_count": 16,
     "metadata": {},
     "output_type": "execute_result"
    }
   ],
   "source": [
    "gender_names = np.array([\"Male\", \"Female\"])\n",
    "gender_names[:5]"
   ]
  },
  {
   "cell_type": "code",
   "execution_count": 17,
   "metadata": {},
   "outputs": [
    {
     "data": {
      "text/plain": [
       "array([1, 2])"
      ]
     },
     "execution_count": 17,
     "metadata": {},
     "output_type": "execute_result"
    }
   ],
   "source": [
    "gender_ids = generate_ids(gender_names)\n",
    "gender_ids[:5]"
   ]
  },
  {
   "cell_type": "code",
   "execution_count": 18,
   "metadata": {},
   "outputs": [
    {
     "data": {
      "text/plain": [
       "array([['ID', 'NAME'],\n",
       "       ['1', 'Male'],\n",
       "       ['2', 'Female']], dtype='<U21')"
      ]
     },
     "execution_count": 18,
     "metadata": {},
     "output_type": "execute_result"
    }
   ],
   "source": [
    "gender_header = np.array([\"ID\", \"NAME\"])\n",
    "genders = np.stack([gender_ids, gender_names]).T\n",
    "genders = np.vstack([gender_header, genders])\n",
    "genders[:5]"
   ]
  },
  {
   "cell_type": "code",
   "execution_count": 19,
   "metadata": {},
   "outputs": [],
   "source": [
    "save_file(genders, \"gender.csv\")"
   ]
  },
  {
   "cell_type": "markdown",
   "metadata": {},
   "source": [
    "## User Personal Details"
   ]
  },
  {
   "cell_type": "code",
   "execution_count": 20,
   "metadata": {},
   "outputs": [
    {
     "data": {
      "text/plain": [
       "array(['Smith', 'Johnson', 'Jones', 'Williams', 'Brown'], dtype='<U30')"
      ]
     },
     "execution_count": 20,
     "metadata": {},
     "output_type": "execute_result"
    }
   ],
   "source": [
    "get_second = np.vectorize(lambda r: r.strip().split(\" \")[1].capitalize())\n",
    "last_names = get_second(read_column_data(\"data/facebook-lastnames-withcount.txt\"))\n",
    "last_names[:5]"
   ]
  },
  {
   "cell_type": "code",
   "execution_count": 21,
   "metadata": {},
   "outputs": [
    {
     "data": {
      "text/plain": [
       "array(['Aamir', 'Aaron', 'Abbey', 'Abbie', 'Abbot'], dtype=object)"
      ]
     },
     "execution_count": 21,
     "metadata": {},
     "output_type": "execute_result"
    }
   ],
   "source": [
    "male_first_names = read_column_data(\"data/names/male.txt\")\n",
    "male_first_names[:5]"
   ]
  },
  {
   "cell_type": "code",
   "execution_count": 22,
   "metadata": {},
   "outputs": [
    {
     "data": {
      "text/plain": [
       "array(['Abagael', 'Abagail', 'Abbe', 'Abbey', 'Abbi'], dtype=object)"
      ]
     },
     "execution_count": 22,
     "metadata": {},
     "output_type": "execute_result"
    }
   ],
   "source": [
    "female_first_names = read_column_data(\"data/names/female.txt\")\n",
    "female_first_names[:5]"
   ]
  },
  {
   "cell_type": "code",
   "execution_count": 23,
   "metadata": {},
   "outputs": [
    {
     "name": "stdout",
     "output_type": "stream",
     "text": [
      "n = 1000000, n_male = 371958, n_female = 628042\n"
     ]
    }
   ],
   "source": [
    "np.random.seed(seed)\n",
    "\n",
    "n_male = np.random.randint(n_users/4, 3*n_users/4)\n",
    "n_female = n_users - n_male\n",
    "\n",
    "print(f\"n = {n_users}, n_male = {n_male}, n_female = {n_female}\")"
   ]
  },
  {
   "cell_type": "code",
   "execution_count": 24,
   "metadata": {},
   "outputs": [
    {
     "data": {
      "text/plain": [
       "array([1, 1, 1, 1, 1])"
      ]
     },
     "execution_count": 24,
     "metadata": {},
     "output_type": "execute_result"
    }
   ],
   "source": [
    "picked_genders = np.concatenate([np.full(n_male, 1), np.full(n_female, 2)])\n",
    "picked_genders[:5]"
   ]
  },
  {
   "cell_type": "code",
   "execution_count": 25,
   "metadata": {},
   "outputs": [
    {
     "data": {
      "text/plain": [
       "array(['Forbes', 'Jean-Francois', 'Hazel', 'Harald', 'Marmaduke'],\n",
       "      dtype=object)"
      ]
     },
     "execution_count": 25,
     "metadata": {},
     "output_type": "execute_result"
    }
   ],
   "source": [
    "np.random.seed(seed)\n",
    "picked_male_names = np.random.choice(male_first_names, n_male)\n",
    "\n",
    "np.random.seed(seed)\n",
    "picked_female_names = np.random.choice(female_first_names, n_female)\n",
    "\n",
    "picked_first_names = np.concatenate([picked_male_names, picked_female_names])\n",
    "picked_first_names[:5]"
   ]
  },
  {
   "cell_type": "code",
   "execution_count": 26,
   "metadata": {},
   "outputs": [
    {
     "data": {
      "text/plain": [
       "array(['Wardyto', 'Hertam', 'Cattirisetti', 'Brockin', 'Folus'],\n",
       "      dtype='<U30')"
      ]
     },
     "execution_count": 26,
     "metadata": {},
     "output_type": "execute_result"
    }
   ],
   "source": [
    "np.random.seed(seed)\n",
    "\n",
    "picked_last_names = np.random.choice(last_names, n_users)\n",
    "picked_last_names[:5]"
   ]
  },
  {
   "cell_type": "code",
   "execution_count": 27,
   "metadata": {},
   "outputs": [
    {
     "data": {
      "text/plain": [
       "array([15796,   861,  5391, 11965, 11285])"
      ]
     },
     "execution_count": 27,
     "metadata": {},
     "output_type": "execute_result"
    }
   ],
   "source": [
    "np.random.seed(seed)\n",
    "\n",
    "picked_city_ids = np.random.choice(city_ids, n_users)\n",
    "picked_city_ids[:5]"
   ]
  },
  {
   "cell_type": "code",
   "execution_count": 28,
   "metadata": {},
   "outputs": [
    {
     "data": {
      "text/plain": [
       "array(['1902-05-11', '1930-11-24', '1917-02-26', '1946-02-19',\n",
       "       '1960-02-18'], dtype='datetime64[D]')"
      ]
     },
     "execution_count": 28,
     "metadata": {},
     "output_type": "execute_result"
    }
   ],
   "source": [
    "np.random.seed(seed)\n",
    "\n",
    "day_range = np.arange(35_000)\n",
    "start_date = np.datetime64('1900-01-01')\n",
    "def random_date(*args):\n",
    "    random_date = start_date + np.random.choice(day_range)\n",
    "    return random_date\n",
    "\n",
    "user_birth_dates = np.fromfunction(np.vectorize(random_date), shape = (n_users,))\n",
    "user_birth_dates[:5]"
   ]
  },
  {
   "cell_type": "code",
   "execution_count": 29,
   "metadata": {},
   "outputs": [
    {
     "data": {
      "text/plain": [
       "array([['ID', 'USER_ID', 'FIRST_NAME', 'LAST_NAME', 'BIRTH_DATE',\n",
       "        'GENDER_ID', 'CITY_ID'],\n",
       "       [1, 1, 'Forbes', 'Wardyto', datetime.date(1902, 5, 11), 1, 15796],\n",
       "       [2, 2, 'Jean-Francois', 'Hertam', datetime.date(1930, 11, 24), 1,\n",
       "        861],\n",
       "       [3, 3, 'Hazel', 'Cattirisetti', datetime.date(1917, 2, 26), 1,\n",
       "        5391],\n",
       "       [4, 4, 'Harald', 'Brockin', datetime.date(1946, 2, 19), 1, 11965]],\n",
       "      dtype=object)"
      ]
     },
     "execution_count": 29,
     "metadata": {},
     "output_type": "execute_result"
    }
   ],
   "source": [
    "user_personal_details_header = np.array([\n",
    "    \"ID\",\n",
    "    \"USER_ID\",\n",
    "    \"FIRST_NAME\",\n",
    "    \"LAST_NAME\", \n",
    "    \"BIRTH_DATE\",\n",
    "    \"GENDER_ID\",\n",
    "    \"CITY_ID\"\n",
    "])\n",
    "user_personal_details = np.stack([\n",
    "    user_ids,\n",
    "    user_ids,\n",
    "    picked_first_names,\n",
    "    picked_last_names,\n",
    "    user_birth_dates,\n",
    "    picked_genders,\n",
    "    picked_city_ids\n",
    "]).T\n",
    "user_personal_details = np.vstack([user_personal_details_header, user_personal_details])\n",
    "user_personal_details[:5]"
   ]
  },
  {
   "cell_type": "code",
   "execution_count": 30,
   "metadata": {},
   "outputs": [],
   "source": [
    "save_file(user_personal_details, \"user_personal_details.csv\")"
   ]
  },
  {
   "cell_type": "markdown",
   "metadata": {},
   "source": [
    "## Users Interests"
   ]
  },
  {
   "cell_type": "code",
   "execution_count": 31,
   "metadata": {},
   "outputs": [
    {
     "data": {
      "text/plain": [
       "array([['USER_ID', 'INTEREST_ID'],\n",
       "       ['1', '21'],\n",
       "       ['1', '72'],\n",
       "       ['1', '107'],\n",
       "       ['1', '122']], dtype='<U21')"
      ]
     },
     "execution_count": 31,
     "metadata": {},
     "output_type": "execute_result"
    }
   ],
   "source": [
    "np.random.seed(seed)\n",
    "\n",
    "interests_cnts = np.arange(1, 15)\n",
    "\n",
    "def user_to_interests(user_id):\n",
    "    user_interests = np.unique(np.random.choice(interest_ids, np.random.choice(interests_cnts)))\n",
    "    return np.stack([np.repeat(user_id, user_interests.shape[0]), user_interests]).T\n",
    "\n",
    "user_interests_header = np.array([\"USER_ID\", \"INTEREST_ID\"])\n",
    "user_interests = np.concatenate(list(map(user_to_interests, user_ids)))\n",
    "user_interests = np.vstack([user_interests_header, user_interests])\n",
    "user_interests[:5]"
   ]
  },
  {
   "cell_type": "code",
   "execution_count": 32,
   "metadata": {},
   "outputs": [],
   "source": [
    "save_file(user_interests, \"user_to_interest.csv\")"
   ]
  },
  {
   "cell_type": "markdown",
   "metadata": {},
   "source": [
    "## Followers"
   ]
  },
  {
   "cell_type": "code",
   "execution_count": 33,
   "metadata": {},
   "outputs": [
    {
     "data": {
      "text/plain": [
       "array([['FOLLOWER_ID', 'FOLLOWED_ID'],\n",
       "       ['1', '110269'],\n",
       "       ['1', '131933'],\n",
       "       ['1', '259179'],\n",
       "       ['1', '365839']], dtype='<U21')"
      ]
     },
     "execution_count": 33,
     "metadata": {},
     "output_type": "execute_result"
    }
   ],
   "source": [
    "np.random.seed(seed)\n",
    "\n",
    "followed_cnt = np.arange(0, 10)\n",
    "def follwed_by_user(user_id):\n",
    "    follwed_user_ids = np.unique(np.random.choice(user_ids, np.random.choice(followed_cnt)))\n",
    "    return np.array(np.stack([np.repeat(user_id, follwed_user_ids.shape[0]), follwed_user_ids]).T)\n",
    "\n",
    "followings_header = np.array([\"FOLLOWER_ID\", \"FOLLOWED_ID\"])\n",
    "followings = np.concatenate(list(map(follwed_by_user, user_ids)))\n",
    "followings = np.vstack([followings_header, followings])\n",
    "followings[:5]"
   ]
  },
  {
   "cell_type": "code",
   "execution_count": 34,
   "metadata": {},
   "outputs": [],
   "source": [
    "save_file(followings, \"follower.csv\")"
   ]
  },
  {
   "cell_type": "markdown",
   "metadata": {},
   "source": [
    "## Copy generated data to application"
   ]
  },
  {
   "cell_type": "code",
   "execution_count": 35,
   "metadata": {},
   "outputs": [],
   "source": [
    "! cp generated_data/* ../social-network/src/main/resources/db/changelog/data/"
   ]
  }
 ],
 "metadata": {
  "kernelspec": {
   "display_name": "Python 3",
   "language": "python",
   "name": "python3"
  },
  "language_info": {
   "codemirror_mode": {
    "name": "ipython",
    "version": 3
   },
   "file_extension": ".py",
   "mimetype": "text/x-python",
   "name": "python",
   "nbconvert_exporter": "python",
   "pygments_lexer": "ipython3",
   "version": "3.7.6"
  }
 },
 "nbformat": 4,
 "nbformat_minor": 4
}
